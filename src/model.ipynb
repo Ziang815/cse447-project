{
 "cells": [
  {
   "cell_type": "code",
   "execution_count": 4,
   "metadata": {},
   "outputs": [],
   "source": [
    "from transformers import BertTokenizer, BertForMaskedLM\n",
    "import torch"
   ]
  },
  {
   "cell_type": "code",
   "execution_count": 5,
   "metadata": {},
   "outputs": [
    {
     "name": "stderr",
     "output_type": "stream",
     "text": [
      "Some weights of the model checkpoint at bert-base-multilingual-cased were not used when initializing BertForMaskedLM: ['bert.pooler.dense.bias', 'bert.pooler.dense.weight', 'cls.seq_relationship.bias', 'cls.seq_relationship.weight']\n",
      "- This IS expected if you are initializing BertForMaskedLM from the checkpoint of a model trained on another task or with another architecture (e.g. initializing a BertForSequenceClassification model from a BertForPreTraining model).\n",
      "- This IS NOT expected if you are initializing BertForMaskedLM from the checkpoint of a model that you expect to be exactly identical (initializing a BertForSequenceClassification model from a BertForSequenceClassification model).\n"
     ]
    }
   ],
   "source": [
    "model_name = \"bert-base-multilingual-cased\"\n",
    "tokenizer = BertTokenizer.from_pretrained(model_name)\n",
    "model = BertForMaskedLM.from_pretrained(model_name)"
   ]
  },
  {
   "cell_type": "code",
   "execution_count": 12,
   "metadata": {},
   "outputs": [
    {
     "data": {
      "text/plain": [
       "['H a p p [MASK]',\n",
       " 'H a p p y   N e [MASK]',\n",
       " 'H a p p y   N e w   Y e a [MASK]',\n",
       " 'T h a t ’ s   o n e   s m a l l   s t e [MASK]',\n",
       " 'T h a t ’ s   o n e   s m [MASK]',\n",
       " 'T h a t ’ [MASK]',\n",
       " 'T h [MASK]',\n",
       " 'o n e   g i a n t   l e a p   f o r   m a n k i n [MASK]',\n",
       " 'o n e   g i a n t   l e a p   f o [MASK]',\n",
       " 'o n e   g i a n t   l e a [MASK]',\n",
       " 'o n e   g i a n t   l [MASK]',\n",
       " 'o n e   g i a [MASK]',\n",
       " 'o n [MASK]']"
      ]
     },
     "execution_count": 12,
     "metadata": {},
     "output_type": "execute_result"
    }
   ],
   "source": [
    "input_path = \"../example/input.txt\"\n",
    "\n",
    "with open(input_path, 'r', encoding='utf-8') as file:\n",
    "    sentences = file.readlines()\n",
    "\n",
    "char_tokens = []\n",
    "\n",
    "for sentence in sentences:\n",
    "    sentence = sentence.strip()\n",
    "    if not sentence:\n",
    "        continue\n",
    "\n",
    "    char_token = \" \".join(sentence) + \" [MASK]\"\n",
    "    char_tokens.append(char_token)\n",
    "\n",
    "char_tokens"
   ]
  },
  {
   "cell_type": "code",
   "execution_count": 13,
   "metadata": {},
   "outputs": [
    {
     "name": "stdout",
     "output_type": "stream",
     "text": [
      "Original: H a p p [MASK]\n",
      "Predicted next characters: ['p', '.', 'H']\n",
      "--------------------------------------------------\n",
      "Original: H a p p y   N e [MASK]\n",
      "Predicted next characters: ['n', '.', 'E']\n",
      "--------------------------------------------------\n",
      "Original: H a p p y   N e w   Y e a [MASK]\n",
      "Predicted next characters: ['e', 'u', 'f']\n",
      "--------------------------------------------------\n",
      "Original: T h a t ’ s   o n e   s m a l l   s t e [MASK]\n",
      "Predicted next characters: ['e', 'u', 't']\n",
      "--------------------------------------------------\n",
      "Original: T h a t ’ s   o n e   s m [MASK]\n",
      "Predicted next characters: ['n', 'm', '[UNK]']\n",
      "--------------------------------------------------\n",
      "Original: T h a t ’ [MASK]\n",
      "Predicted next characters: ['[UNK]', '.', ':']\n",
      "--------------------------------------------------\n",
      "Original: T h [MASK]\n",
      "Predicted next characters: ['.', ':', '=']\n",
      "--------------------------------------------------\n",
      "Original: o n e   g i a n t   l e a p   f o r   m a n k i n [MASK]\n",
      "Predicted next characters: ['n', 'o', 'u']\n",
      "--------------------------------------------------\n",
      "Original: o n e   g i a n t   l e a p   f o [MASK]\n",
      "Predicted next characters: ['o', 'u', 'n']\n",
      "--------------------------------------------------\n",
      "Original: o n e   g i a n t   l e a [MASK]\n",
      "Predicted next characters: ['n', 'u', 'a']\n",
      "--------------------------------------------------\n",
      "Original: o n e   g i a n t   l [MASK]\n",
      "Predicted next characters: ['.', \"'\", 'l']\n",
      "--------------------------------------------------\n",
      "Original: o n e   g i a [MASK]\n",
      "Predicted next characters: ['a', 'u', 'n']\n",
      "--------------------------------------------------\n",
      "Original: o n [MASK]\n",
      "Predicted next characters: ['.', \"'\", 'n']\n",
      "--------------------------------------------------\n"
     ]
    }
   ],
   "source": [
    "predictions = []\n",
    "with torch.no_grad():\n",
    "    for char_token in char_tokens:\n",
    "        input = tokenizer(char_token, return_tensors='pt')\n",
    "        mask_token_index = torch.where(input[\"input_ids\"] == tokenizer.mask_token_id)[1].item()\n",
    "\n",
    "        predict = model(**input)\n",
    "\n",
    "        top_3_predictions = torch.topk(predict.logits[0, mask_token_index], k=3)\n",
    "        predicted_chars = [tokenizer.decode([token_id]) for token_id in top_3_predictions.indices]\n",
    "        predictions.append(predicted_chars)\n",
    "\n",
    "\n",
    "for original, pred in zip(char_tokens, predictions):\n",
    "    print(f\"Original: {original}\")\n",
    "    print(f\"Predicted next characters: {pred}\")\n",
    "    print(\"-\" * 50)"
   ]
  }
 ],
 "metadata": {
  "kernelspec": {
   "display_name": "CSE447",
   "language": "python",
   "name": "python3"
  },
  "language_info": {
   "codemirror_mode": {
    "name": "ipython",
    "version": 3
   },
   "file_extension": ".py",
   "mimetype": "text/x-python",
   "name": "python",
   "nbconvert_exporter": "python",
   "pygments_lexer": "ipython3",
   "version": "3.10.16"
  }
 },
 "nbformat": 4,
 "nbformat_minor": 2
}
